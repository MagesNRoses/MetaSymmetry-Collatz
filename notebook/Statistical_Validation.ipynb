{
 "cells": [
  {
   "cell_type": "code",
   "execution_count": null,
   "id": "53f9c34a",
   "metadata": {
    "vscode": {
     "languageId": "plaintext"
    }
   },
   "outputs": [],
   "source": [
    "# Analiza 10,000 trayectorias\n",
    "results = []\n",
    "for n in tqdm(range(1, 10001)):\n",
    "    analysis = analyze_trajectory(n)\n",
    "    abc_steps = sum(1 for r in analysis['regions'] if r[3] in ['A','B','C'])\n",
    "    results.append({\n",
    "        'n': n,\n",
    "        'steps': analysis['steps'],\n",
    "        'abc_ratio': abc_steps / analysis['steps']\n",
    "    })\n",
    "\n",
    "# Gráfico de correlación\n",
    "plt.scatter([r['abc_ratio'] for r in results], [r['steps'] for r in results])"
   ]
  }
 ],
 "metadata": {
  "language_info": {
   "name": "python"
  }
 },
 "nbformat": 4,
 "nbformat_minor": 5
}
