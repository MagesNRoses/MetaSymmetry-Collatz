# %% [markdown]
# # Análisis Básico de Regiones Collatz
# ## Por [Santiago Alexis Villalba], Estudiante de [Universidad de Buenos Aires]
# 
# Este cuaderno demuestra mi descubrimiento de 4 regiones dinámicas en trayectorias de Collatz

# %%
import matplotlib.pyplot as plt
import numpy as np
from src.collatz_functions import analyze_trajectory

# %% [markdown]
# ## 1. Ejemplo con n=27
# %%
n = 27
analysis = analyze_trajectory(n)

# Mostrar resultados
print(f"Trayectoria completa: {analysis['sequence']}")
print("\nClasificación por paso:")
for i, (num, op, x, reg) in enumerate(analysis['regions']):
    print(f"Paso {i+1}: {num} -> {op}, x={x:.3f}, Región={reg}")

# %% [markdown]
# ## 2. Visualización
# %%
# Extraer datos para gráfico
steps = list(range(1, len(analysis['regions'])+1))
x_values = [item[2] for item in analysis['regions']]
regions = [item[3] for item in analysis['regions']]

# Mapeo de colores para regiones
color_map = {'A': 'red', 'B': 'blue', 'C': 'green', 'D': 'purple', 'U': 'gray'}
colors = [color_map[r] for r in regions]

plt.figure(figsize=(10, 6))
plt.scatter(steps, x_values, c=colors, s=100)
plt.axhline(y=1.58496, color='black', linestyle='--', label='log2(3)')
plt.axhline(y=0.1, color='orange', linestyle='--', label='epsilon=0.1')
plt.xlabel('Paso de la secuencia')
plt.ylabel('Valor de x (razón j/k)')
plt.title(f'Regiones Dinámicas para n={n}')
plt.legend()
plt.grid(True)
plt.savefig('collatz_regions.png', dpi=300)
plt.show()

# %% [markdown]
# ## 3. Patrón Observado
# **Hallazgo clave:** Cuando la trayectoria pasa por la región ABC, acelera su convergencia

# Mejor visualización con colores accesibles
color_map = {
    'A': '#E63946',  # Rojo vibrante
    'B': '#1D3557',  # Azul profundo
    'C': '#2A9D8F',  # Verde turquesa
    'D': '#F4A261',  # Naranja suave
    'U': '#999999'   # Gris neutro
}